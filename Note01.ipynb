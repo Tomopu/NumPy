{
 "cells": [
  {
   "cell_type": "markdown",
   "id": "fee77ae2",
   "metadata": {},
   "source": [
    "# NumPyをimportする"
   ]
  },
  {
   "cell_type": "code",
   "execution_count": 1,
   "id": "adc2e94a",
   "metadata": {},
   "outputs": [],
   "source": [
    "import numpy as np"
   ]
  },
  {
   "cell_type": "markdown",
   "id": "fab39721",
   "metadata": {},
   "source": [
    "<br>"
   ]
  },
  {
   "cell_type": "markdown",
   "id": "9bd0a8a0",
   "metadata": {},
   "source": [
    "# ベクトルの表現\n",
    "NumPyのarray(配列)を使って、以下の数ベクトルを表現する\n",
    "$$\n",
    "\\boldsymbol{x} = \\begin{pmatrix}1 \\\\ 2 \\\\ 3 \\end{pmatrix}\n",
    "$$"
   ]
  },
  {
   "cell_type": "code",
   "execution_count": 2,
   "id": "44e3e96f",
   "metadata": {},
   "outputs": [],
   "source": [
    "x = np.array([1,2,3])"
   ]
  },
  {
   "cell_type": "code",
   "execution_count": 3,
   "id": "3a65e97e",
   "metadata": {},
   "outputs": [
    {
     "data": {
      "text/plain": [
       "array([1, 2, 3])"
      ]
     },
     "execution_count": 3,
     "metadata": {},
     "output_type": "execute_result"
    }
   ],
   "source": [
    "x"
   ]
  },
  {
   "cell_type": "markdown",
   "id": "64adbfd5",
   "metadata": {},
   "source": [
    "### ベクトルの型\n",
    "また、上で定義したベクトルの型を.shapeで確認できる\n",
    "\n",
    "`(3,)の場合、3行1列の行列(つまりベクトル)`"
   ]
  },
  {
   "cell_type": "code",
   "execution_count": 4,
   "id": "8f75d4f2",
   "metadata": {},
   "outputs": [
    {
     "data": {
      "text/plain": [
       "(3,)"
      ]
     },
     "execution_count": 4,
     "metadata": {},
     "output_type": "execute_result"
    }
   ],
   "source": [
    "x.shape"
   ]
  },
  {
   "cell_type": "markdown",
   "id": "5f5e8544",
   "metadata": {},
   "source": [
    "### ベクトルの次元\n",
    "$$\n",
    "dim \\begin{pmatrix}1 \\\\ 2 \\\\ 3 \\end{pmatrix} = 1\n",
    "$$\n",
    "は、以下のように求めることができる"
   ]
  },
  {
   "cell_type": "code",
   "execution_count": 5,
   "id": "cf30f8ec",
   "metadata": {},
   "outputs": [
    {
     "data": {
      "text/plain": [
       "1"
      ]
     },
     "execution_count": 5,
     "metadata": {},
     "output_type": "execute_result"
    }
   ],
   "source": [
    "x.ndim"
   ]
  },
  {
   "cell_type": "markdown",
   "id": "15cef759",
   "metadata": {},
   "source": [
    "<br>"
   ]
  },
  {
   "cell_type": "markdown",
   "id": "b1f37d3b",
   "metadata": {},
   "source": [
    "# 行列の表現\n",
    "NumPyで以下のような3x3型の行列を表現する\n",
    "$$\n",
    "A = \\begin{pmatrix}\n",
    "   1 & 2 \\\\\n",
    "   3 & 4 \\\\\n",
    "   5 & 6\n",
    "\\end{pmatrix}\n",
    "$$"
   ]
  },
  {
   "cell_type": "code",
   "execution_count": 6,
   "id": "43a558ed",
   "metadata": {},
   "outputs": [],
   "source": [
    "A = np.array([\n",
    "    [1, 2],\n",
    "    [3, 4],\n",
    "    [5, 6]\n",
    "])"
   ]
  },
  {
   "cell_type": "code",
   "execution_count": 7,
   "id": "1a2d5d9c",
   "metadata": {},
   "outputs": [
    {
     "data": {
      "text/plain": [
       "array([[1, 2],\n",
       "       [3, 4],\n",
       "       [5, 6]])"
      ]
     },
     "execution_count": 7,
     "metadata": {},
     "output_type": "execute_result"
    }
   ],
   "source": [
    "A"
   ]
  },
  {
   "cell_type": "markdown",
   "id": "0e57973b",
   "metadata": {},
   "source": [
    "### 行列の型と次元\n",
    "ベクトルの時と同様に、行列の型と次元は以下のように求められる"
   ]
  },
  {
   "cell_type": "code",
   "execution_count": 8,
   "id": "174a0216",
   "metadata": {},
   "outputs": [
    {
     "data": {
      "text/plain": [
       "(3, 2)"
      ]
     },
     "execution_count": 8,
     "metadata": {},
     "output_type": "execute_result"
    }
   ],
   "source": [
    "A.shape"
   ]
  },
  {
   "cell_type": "code",
   "execution_count": 9,
   "id": "bb7814c2",
   "metadata": {},
   "outputs": [
    {
     "data": {
      "text/plain": [
       "2"
      ]
     },
     "execution_count": 9,
     "metadata": {},
     "output_type": "execute_result"
    }
   ],
   "source": [
    "A.ndim"
   ]
  },
  {
   "cell_type": "markdown",
   "id": "4edb111e",
   "metadata": {},
   "source": [
    "### 行列の転置\n"
   ]
  },
  {
   "cell_type": "code",
   "execution_count": 10,
   "id": "f783ef1f",
   "metadata": {},
   "outputs": [
    {
     "data": {
      "text/plain": [
       "array([[1, 3, 5],\n",
       "       [2, 4, 6]])"
      ]
     },
     "execution_count": 10,
     "metadata": {},
     "output_type": "execute_result"
    }
   ],
   "source": [
    "A.T"
   ]
  },
  {
   "cell_type": "markdown",
   "id": "5b2d5d2b",
   "metadata": {},
   "source": [
    "### 行列の積\n",
    "以下のような行列の積を求める際は、`dot()`メソッドを用いる\n",
    "$$\n",
    "A(^tA) = \n",
    "\\begin{pmatrix} 1 & 2 \\\\ 3 & 4 \\\\ 5 & 6 \\end{pmatrix}\n",
    "\\begin{pmatrix} 1 & 3 & 5\\\\ 2 & 4 & 6 \\end{pmatrix}\n",
    "$$"
   ]
  },
  {
   "cell_type": "code",
   "execution_count": 11,
   "id": "088e4f4c",
   "metadata": {},
   "outputs": [
    {
     "data": {
      "text/plain": [
       "array([[ 5, 11, 17],\n",
       "       [11, 25, 39],\n",
       "       [17, 39, 61]])"
      ]
     },
     "execution_count": 11,
     "metadata": {},
     "output_type": "execute_result"
    }
   ],
   "source": [
    "np.dot(A, A.T)"
   ]
  },
  {
   "cell_type": "markdown",
   "id": "b737f1ab",
   "metadata": {},
   "source": [
    "### 零行列\n",
    "np.zerosを使うと、引数に指定した型の零行列を作ることができる"
   ]
  },
  {
   "cell_type": "code",
   "execution_count": 12,
   "id": "5d1c4844",
   "metadata": {},
   "outputs": [
    {
     "data": {
      "text/plain": [
       "array([[0., 0., 0., 0., 0.],\n",
       "       [0., 0., 0., 0., 0.],\n",
       "       [0., 0., 0., 0., 0.],\n",
       "       [0., 0., 0., 0., 0.],\n",
       "       [0., 0., 0., 0., 0.]])"
      ]
     },
     "execution_count": 12,
     "metadata": {},
     "output_type": "execute_result"
    }
   ],
   "source": [
    "np.zeros((5,5))"
   ]
  },
  {
   "cell_type": "markdown",
   "id": "b088df44",
   "metadata": {},
   "source": [
    "<br>"
   ]
  },
  {
   "cell_type": "markdown",
   "id": "dd3e00f8",
   "metadata": {},
   "source": [
    "# 行列に対する基本統計量"
   ]
  },
  {
   "cell_type": "markdown",
   "id": "1a5dd3d9",
   "metadata": {},
   "source": [
    "### 行列の平均値\n",
    "以下のような行列yに関して、`mean()`メソッドを用いると全ての要素に対する平均値を求められる"
   ]
  },
  {
   "cell_type": "code",
   "execution_count": 13,
   "id": "02fe8c7b",
   "metadata": {},
   "outputs": [],
   "source": [
    "y = np.array([\n",
    "    [1, 2, 3],\n",
    "    [4, 5, 6],\n",
    "    [7, 8, 9]\n",
    "])"
   ]
  },
  {
   "cell_type": "code",
   "execution_count": 14,
   "id": "1c695d14",
   "metadata": {},
   "outputs": [
    {
     "data": {
      "text/plain": [
       "5.0"
      ]
     },
     "execution_count": 14,
     "metadata": {},
     "output_type": "execute_result"
    }
   ],
   "source": [
    "y.mean()"
   ]
  },
  {
   "cell_type": "markdown",
   "id": "6d1e57df",
   "metadata": {},
   "source": [
    "### 各行の平均値\n",
    "先ほどの`mean()`メソッドに対して、引数に`axis=1`を指定するとこで、各行に関する平均値を求めることができる"
   ]
  },
  {
   "cell_type": "code",
   "execution_count": 15,
   "id": "29e8bd20",
   "metadata": {},
   "outputs": [
    {
     "data": {
      "text/plain": [
       "array([2., 5., 8.])"
      ]
     },
     "execution_count": 15,
     "metadata": {},
     "output_type": "execute_result"
    }
   ],
   "source": [
    "y.mean(axis=1)"
   ]
  },
  {
   "cell_type": "markdown",
   "id": "16675abc",
   "metadata": {},
   "source": [
    "### 行列の分散\n",
    "`var()`メソッドを用いることで、行列の分散を求めることができる"
   ]
  },
  {
   "cell_type": "code",
   "execution_count": 16,
   "id": "32cc7afa",
   "metadata": {},
   "outputs": [
    {
     "data": {
      "text/plain": [
       "6.666666666666667"
      ]
     },
     "execution_count": 16,
     "metadata": {},
     "output_type": "execute_result"
    }
   ],
   "source": [
    "y.var()"
   ]
  },
  {
   "cell_type": "markdown",
   "id": "08d0731d",
   "metadata": {},
   "source": [
    "### 行列の標準偏差\n",
    "`std()`メソッドを用いることで、行列の分散を求めることができる"
   ]
  },
  {
   "cell_type": "code",
   "execution_count": 17,
   "id": "803cad8c",
   "metadata": {},
   "outputs": [
    {
     "data": {
      "text/plain": [
       "2.581988897471611"
      ]
     },
     "execution_count": 17,
     "metadata": {},
     "output_type": "execute_result"
    }
   ],
   "source": [
    "y.std()"
   ]
  },
  {
   "cell_type": "markdown",
   "id": "5e3b0ab6",
   "metadata": {},
   "source": [
    "### 行列の要素の最大値\n",
    "`max()`メソッドを用いることで、行列の全ての要素の中で最大値を求めることができる<br>\n",
    "また、引数に`axis=1`を与えることで、各行の要素の中の最大値が出力される"
   ]
  },
  {
   "cell_type": "code",
   "execution_count": 18,
   "id": "fd80ad83",
   "metadata": {},
   "outputs": [
    {
     "data": {
      "text/plain": [
       "9"
      ]
     },
     "execution_count": 18,
     "metadata": {},
     "output_type": "execute_result"
    }
   ],
   "source": [
    "y.max()"
   ]
  },
  {
   "cell_type": "code",
   "execution_count": 19,
   "id": "c638bd2c",
   "metadata": {},
   "outputs": [
    {
     "data": {
      "text/plain": [
       "array([3, 6, 9])"
      ]
     },
     "execution_count": 19,
     "metadata": {},
     "output_type": "execute_result"
    }
   ],
   "source": [
    "y.max(axis=1)"
   ]
  },
  {
   "cell_type": "markdown",
   "id": "8cedeec0",
   "metadata": {},
   "source": [
    "<br>"
   ]
  },
  {
   "cell_type": "markdown",
   "id": "be37dfc8",
   "metadata": {},
   "source": [
    "参考: https://www.youtube.com/watch?v=qMjK2131f3I"
   ]
  }
 ],
 "metadata": {
  "kernelspec": {
   "display_name": "Python 3 (ipykernel)",
   "language": "python",
   "name": "python3"
  },
  "language_info": {
   "codemirror_mode": {
    "name": "ipython",
    "version": 3
   },
   "file_extension": ".py",
   "mimetype": "text/x-python",
   "name": "python",
   "nbconvert_exporter": "python",
   "pygments_lexer": "ipython3",
   "version": "3.8.1"
  }
 },
 "nbformat": 4,
 "nbformat_minor": 5
}
